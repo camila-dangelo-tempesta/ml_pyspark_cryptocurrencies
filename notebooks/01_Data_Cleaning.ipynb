{
 "cells": [
  {
   "cell_type": "markdown",
   "metadata": {},
   "source": [
    "## 0.0 IMPORTS"
   ]
  },
  {
   "cell_type": "code",
   "execution_count": 1,
   "metadata": {
    "id": "CPDsD_yhZrO1"
   },
   "outputs": [],
   "source": [
    "# Imports\n",
    "import pandas as pd # manipulação de dados\n",
    "import numpy as np\n",
    "\n",
    "import seaborn as sns # visualizações/gráficos\n",
    "from matplotlib import pyplot as plt\n",
    "\n",
    "import pyspark # cluster\n",
    "from pyspark import SparkConf, SparkContext\n",
    "from pyspark.sql import SparkSession, SQLContext\n",
    "from pyspark.sql.types import *\n",
    "from pyspark.sql.functions import *\n",
    "from pyspark.ml.linalg import Vectors\n",
    "from pyspark.ml.feature import StringIndexer\n",
    "from pyspark.ml.regression import LinearRegression\n",
    "from pyspark.mllib.evaluation import RegressionMetrics\n",
    "from pyspark.ml.linalg import Vectors\n",
    "from pyspark.ml.feature import StringIndexer\n",
    "from pyspark.ml.stat import Correlation\n",
    "from pyspark.ml.feature import MinMaxScaler\n",
    "from pyspark.ml.feature import VectorAssembler\n",
    "from pyspark.ml import Pipeline\n",
    "from pyspark.ml.tuning import ParamGridBuilder, CrossValidator, CrossValidatorModel\n",
    "from pyspark.ml.feature import VectorAssembler, StandardScaler\n",
    "from pyspark.ml.evaluation import RegressionEvaluator"
   ]
  },
  {
   "cell_type": "code",
   "execution_count": 2,
   "metadata": {},
   "outputs": [
    {
     "name": "stderr",
     "output_type": "stream",
     "text": [
      "WARNING: Ignoring invalid distribution -atplotlib (c:\\users\\utilizador\\anaconda3\\lib\\site-packages)\n",
      "WARNING: Ignoring invalid distribution -atplotlib (c:\\users\\utilizador\\anaconda3\\lib\\site-packages)\n",
      "WARNING: Ignoring invalid distribution -atplotlib (c:\\users\\utilizador\\anaconda3\\lib\\site-packages)\n",
      "WARNING: Ignoring invalid distribution -atplotlib (c:\\users\\utilizador\\anaconda3\\lib\\site-packages)\n",
      "WARNING: Ignoring invalid distribution -atplotlib (c:\\users\\utilizador\\anaconda3\\lib\\site-packages)\n",
      "WARNING: Ignoring invalid distribution -atplotlib (c:\\users\\utilizador\\anaconda3\\lib\\site-packages)\n"
     ]
    }
   ],
   "source": [
    "# https://pypi.org/project/findspark/\n",
    "!pip install -q findspark"
   ]
  },
  {
   "cell_type": "code",
   "execution_count": 3,
   "metadata": {},
   "outputs": [],
   "source": [
    "# Importa o findspark e inicializa\n",
    "import findspark\n",
    "findspark.init()"
   ]
  },
  {
   "cell_type": "markdown",
   "metadata": {},
   "source": [
    "### 0.1 Helper Functions"
   ]
  },
  {
   "cell_type": "code",
   "execution_count": 4,
   "metadata": {},
   "outputs": [
    {
     "name": "stdout",
     "output_type": "stream",
     "text": [
      "Versão da Linguagem Python Usada Neste Jupyter Notebook: 3.9.7\n"
     ]
    }
   ],
   "source": [
    "# Versão da Linguagem Python\n",
    "from platform import python_version\n",
    "print('Versão da Linguagem Python Usada Neste Jupyter Notebook:', python_version())"
   ]
  },
  {
   "cell_type": "code",
   "execution_count": 5,
   "metadata": {},
   "outputs": [
    {
     "name": "stdout",
     "output_type": "stream",
     "text": [
      "Author: Camila D'Angelo\n",
      "\n",
      "seaborn   : 0.11.2\n",
      "findspark : 2.0.1\n",
      "pyspark   : 3.3.0\n",
      "numpy     : 1.20.3\n",
      "matplotlib: 3.4.3\n",
      "pandas    : 1.3.4\n",
      "sys       : 3.9.7 (default, Sep 16 2021, 16:59:28) [MSC v.1916 64 bit (AMD64)]\n",
      "\n"
     ]
    }
   ],
   "source": [
    "# Versões dos pacotes usados neste jupyter notebook\n",
    "%reload_ext watermark\n",
    "%watermark -a \"Camila D'Angelo\" --iversions"
   ]
  },
  {
   "cell_type": "code",
   "execution_count": 6,
   "metadata": {},
   "outputs": [],
   "source": [
    "# Formatação das saídas\n",
    "pd.set_option('display.max_columns', 200)\n",
    "pd.set_option('display.max_colwidth', 400)\n",
    "from matplotlib.axes._axes import _log as matplotlib_axes_logger\n",
    "matplotlib_axes_logger.setLevel('ERROR')"
   ]
  },
  {
   "cell_type": "markdown",
   "metadata": {},
   "source": [
    "## 1.0 Preparando o Ambiente Spark"
   ]
  },
  {
   "cell_type": "code",
   "execution_count": 7,
   "metadata": {
    "id": "eeFpjeqJZ6Nf"
   },
   "outputs": [],
   "source": [
    "# Definindo semente aleatória (seed) para reprodutibilidade do notebook\n",
    "rnd_seed = 23\n",
    "np.random.seed = rnd_seed\n",
    "np.random.set_state = rnd_seed"
   ]
  },
  {
   "cell_type": "code",
   "execution_count": 8,
   "metadata": {
    "id": "BQTuvaMhKkrK"
   },
   "outputs": [],
   "source": [
    "# Criando o Spark Context\n",
    "sc = SparkContext(appName = \"Mini-Projeto3\")"
   ]
  },
  {
   "cell_type": "code",
   "execution_count": 9,
   "metadata": {},
   "outputs": [],
   "source": [
    "# Criando a sessão Spark\n",
    "spark_session = SparkSession.Builder().getOrCreate()"
   ]
  },
  {
   "cell_type": "code",
   "execution_count": 10,
   "metadata": {
    "colab": {
     "base_uri": "https://localhost:8080/",
     "height": 219
    },
    "id": "Ec8oNb8qK6Pm",
    "outputId": "1653edd4-1ee3-41fa-d53c-6fe717b0aac5"
   },
   "outputs": [
    {
     "data": {
      "text/html": [
       "\n",
       "            <div>\n",
       "                <p><b>SparkSession - in-memory</b></p>\n",
       "                \n",
       "        <div>\n",
       "            <p><b>SparkContext</b></p>\n",
       "\n",
       "            <p><a href=\"http://192.168.1.19:4040\">Spark UI</a></p>\n",
       "\n",
       "            <dl>\n",
       "              <dt>Version</dt>\n",
       "                <dd><code>v3.3.0</code></dd>\n",
       "              <dt>Master</dt>\n",
       "                <dd><code>local[*]</code></dd>\n",
       "              <dt>AppName</dt>\n",
       "                <dd><code>Mini-Projeto3</code></dd>\n",
       "            </dl>\n",
       "        </div>\n",
       "        \n",
       "            </div>\n",
       "        "
      ],
      "text/plain": [
       "<pyspark.sql.session.SparkSession at 0x286032b8e50>"
      ]
     },
     "execution_count": 10,
     "metadata": {},
     "output_type": "execute_result"
    }
   ],
   "source": [
    "# Visualiza o objeto spark_session\n",
    "spark_session"
   ]
  },
  {
   "cell_type": "markdown",
   "metadata": {},
   "source": [
    "## LOADING DATA"
   ]
  },
  {
   "cell_type": "code",
   "execution_count": 11,
   "metadata": {
    "id": "MrRYMdxGM2SJ"
   },
   "outputs": [],
   "source": [
    "# Carrega os dados a partir da sessão Spark\n",
    "df_spark = spark_session.read.csv('dados/dataset.csv', header = 'true', inferSchema = 'true')"
   ]
  },
  {
   "cell_type": "code",
   "execution_count": 12,
   "metadata": {},
   "outputs": [
    {
     "data": {
      "text/plain": [
       "pyspark.sql.dataframe.DataFrame"
      ]
     },
     "execution_count": 12,
     "metadata": {},
     "output_type": "execute_result"
    }
   ],
   "source": [
    "# Tipo do objeto\n",
    "type(df_spark)"
   ]
  },
  {
   "cell_type": "code",
   "execution_count": 13,
   "metadata": {
    "colab": {
     "base_uri": "https://localhost:8080/"
    },
    "id": "9COe3UZhO0D5",
    "outputId": "dfd48aee-686c-4ec5-8892-214e16a64c72"
   },
   "outputs": [
    {
     "name": "stdout",
     "output_type": "stream",
     "text": [
      "+----------+----+----+----+-----+------------+-----------------+--------------+\n",
      "| Timestamp|Open|High| Low|Close|Volume_(BTC)|Volume_(Currency)|Weighted_Price|\n",
      "+----------+----+----+----+-----+------------+-----------------+--------------+\n",
      "|1325317920|4.39|4.39|4.39| 4.39|  0.45558087|     2.0000000193|          4.39|\n",
      "|1325319300| NaN| NaN| NaN|  NaN|         NaN|              NaN|           NaN|\n",
      "|1325319360| NaN| NaN| NaN|  NaN|         NaN|              NaN|           NaN|\n",
      "|1325319420| NaN| NaN| NaN|  NaN|         NaN|              NaN|           NaN|\n",
      "|1325319480| NaN| NaN| NaN|  NaN|         NaN|              NaN|           NaN|\n",
      "|1325319540| NaN| NaN| NaN|  NaN|         NaN|              NaN|           NaN|\n",
      "|1325319600| NaN| NaN| NaN|  NaN|         NaN|              NaN|           NaN|\n",
      "|1325319660| NaN| NaN| NaN|  NaN|         NaN|              NaN|           NaN|\n",
      "|1325345040| NaN| NaN| NaN|  NaN|         NaN|              NaN|           NaN|\n",
      "|1325345100| NaN| NaN| NaN|  NaN|         NaN|              NaN|           NaN|\n",
      "|1325345160| NaN| NaN| NaN|  NaN|         NaN|              NaN|           NaN|\n",
      "|1325345220| NaN| NaN| NaN|  NaN|         NaN|              NaN|           NaN|\n",
      "|1325345280| NaN| NaN| NaN|  NaN|         NaN|              NaN|           NaN|\n",
      "|1325345340| NaN| NaN| NaN|  NaN|         NaN|              NaN|           NaN|\n",
      "|1325345400| NaN| NaN| NaN|  NaN|         NaN|              NaN|           NaN|\n",
      "|1325345460| NaN| NaN| NaN|  NaN|         NaN|              NaN|           NaN|\n",
      "|1325345520| NaN| NaN| NaN|  NaN|         NaN|              NaN|           NaN|\n",
      "|1325345580| NaN| NaN| NaN|  NaN|         NaN|              NaN|           NaN|\n",
      "|1325345640| NaN| NaN| NaN|  NaN|         NaN|              NaN|           NaN|\n",
      "|1325345700| NaN| NaN| NaN|  NaN|         NaN|              NaN|           NaN|\n",
      "+----------+----+----+----+-----+------------+-----------------+--------------+\n",
      "only showing top 20 rows\n",
      "\n"
     ]
    }
   ],
   "source": [
    "# Visualiza os dados\n",
    "df_spark.show()"
   ]
  },
  {
   "cell_type": "code",
   "execution_count": 14,
   "metadata": {
    "colab": {
     "base_uri": "https://localhost:8080/"
    },
    "id": "lLR1WMTfO42i",
    "outputId": "e98a0c8d-550b-46af-eb84-9670cec7fd14"
   },
   "outputs": [
    {
     "name": "stdout",
     "output_type": "stream",
     "text": [
      "root\n",
      " |-- Timestamp: integer (nullable = true)\n",
      " |-- Open: double (nullable = true)\n",
      " |-- High: double (nullable = true)\n",
      " |-- Low: double (nullable = true)\n",
      " |-- Close: double (nullable = true)\n",
      " |-- Volume_(BTC): double (nullable = true)\n",
      " |-- Volume_(Currency): double (nullable = true)\n",
      " |-- Weighted_Price: double (nullable = true)\n",
      "\n"
     ]
    }
   ],
   "source": [
    "# Visualiza os metadados (schema)\n",
    "# Nome: tipo\n",
    "df_spark.printSchema()"
   ]
  },
  {
   "cell_type": "code",
   "execution_count": 15,
   "metadata": {
    "colab": {
     "base_uri": "https://localhost:8080/"
    },
    "id": "sBjjtJ9kO-fO",
    "outputId": "cff87ea9-d91d-43ea-f30b-3b97990e55d2"
   },
   "outputs": [
    {
     "data": {
      "text/plain": [
       "4856600"
      ]
     },
     "execution_count": 15,
     "metadata": {},
     "output_type": "execute_result"
    }
   ],
   "source": [
    "# Verifica o número de linhas\n",
    "df_spark.count()"
   ]
  },
  {
   "cell_type": "markdown",
   "metadata": {},
   "source": [
    "## Data Wrangling com SparkSQL"
   ]
  },
  {
   "cell_type": "code",
   "execution_count": 16,
   "metadata": {},
   "outputs": [],
   "source": [
    "# Cria uma tabela temporária a partir do dataframe\n",
    "# As tabelas temporárias são úteis quando você deseja que o conjunto de resultados fique visível \n",
    "# para todas as outras sessões Spark\n",
    "df_spark.createOrReplaceTempView('dados_bitcoin') "
   ]
  },
  {
   "cell_type": "code",
   "execution_count": 17,
   "metadata": {},
   "outputs": [],
   "source": [
    "# Executa uma consulta SQL\n",
    "df_bitcoin = spark_session.sql(\"select *, from_unixtime(Timestamp) as `dateTime` from dados_bitcoin\")"
   ]
  },
  {
   "cell_type": "code",
   "execution_count": 18,
   "metadata": {},
   "outputs": [
    {
     "data": {
      "text/plain": [
       "pyspark.sql.dataframe.DataFrame"
      ]
     },
     "execution_count": 18,
     "metadata": {},
     "output_type": "execute_result"
    }
   ],
   "source": [
    "type(df_bitcoin)"
   ]
  },
  {
   "cell_type": "code",
   "execution_count": 19,
   "metadata": {},
   "outputs": [
    {
     "name": "stdout",
     "output_type": "stream",
     "text": [
      "+----------+----+----+----+-----+------------+-----------------+--------------+-------------------+\n",
      "| Timestamp|Open|High| Low|Close|Volume_(BTC)|Volume_(Currency)|Weighted_Price|           dateTime|\n",
      "+----------+----+----+----+-----+------------+-----------------+--------------+-------------------+\n",
      "|1325317920|4.39|4.39|4.39| 4.39|  0.45558087|     2.0000000193|          4.39|2011-12-31 08:52:00|\n",
      "|1325319300| NaN| NaN| NaN|  NaN|         NaN|              NaN|           NaN|2011-12-31 09:15:00|\n",
      "|1325319360| NaN| NaN| NaN|  NaN|         NaN|              NaN|           NaN|2011-12-31 09:16:00|\n",
      "|1325319420| NaN| NaN| NaN|  NaN|         NaN|              NaN|           NaN|2011-12-31 09:17:00|\n",
      "|1325319480| NaN| NaN| NaN|  NaN|         NaN|              NaN|           NaN|2011-12-31 09:18:00|\n",
      "|1325319540| NaN| NaN| NaN|  NaN|         NaN|              NaN|           NaN|2011-12-31 09:19:00|\n",
      "|1325319600| NaN| NaN| NaN|  NaN|         NaN|              NaN|           NaN|2011-12-31 09:20:00|\n",
      "|1325319660| NaN| NaN| NaN|  NaN|         NaN|              NaN|           NaN|2011-12-31 09:21:00|\n",
      "|1325345040| NaN| NaN| NaN|  NaN|         NaN|              NaN|           NaN|2011-12-31 16:24:00|\n",
      "|1325345100| NaN| NaN| NaN|  NaN|         NaN|              NaN|           NaN|2011-12-31 16:25:00|\n",
      "|1325345160| NaN| NaN| NaN|  NaN|         NaN|              NaN|           NaN|2011-12-31 16:26:00|\n",
      "|1325345220| NaN| NaN| NaN|  NaN|         NaN|              NaN|           NaN|2011-12-31 16:27:00|\n",
      "|1325345280| NaN| NaN| NaN|  NaN|         NaN|              NaN|           NaN|2011-12-31 16:28:00|\n",
      "|1325345340| NaN| NaN| NaN|  NaN|         NaN|              NaN|           NaN|2011-12-31 16:29:00|\n",
      "|1325345400| NaN| NaN| NaN|  NaN|         NaN|              NaN|           NaN|2011-12-31 16:30:00|\n",
      "|1325345460| NaN| NaN| NaN|  NaN|         NaN|              NaN|           NaN|2011-12-31 16:31:00|\n",
      "|1325345520| NaN| NaN| NaN|  NaN|         NaN|              NaN|           NaN|2011-12-31 16:32:00|\n",
      "|1325345580| NaN| NaN| NaN|  NaN|         NaN|              NaN|           NaN|2011-12-31 16:33:00|\n",
      "|1325345640| NaN| NaN| NaN|  NaN|         NaN|              NaN|           NaN|2011-12-31 16:34:00|\n",
      "|1325345700| NaN| NaN| NaN|  NaN|         NaN|              NaN|           NaN|2011-12-31 16:35:00|\n",
      "+----------+----+----+----+-----+------------+-----------------+--------------+-------------------+\n",
      "only showing top 20 rows\n",
      "\n"
     ]
    }
   ],
   "source": [
    "# Visualiza os dados\n",
    "df_bitcoin.show()"
   ]
  },
  {
   "cell_type": "markdown",
   "metadata": {},
   "source": [
    "> **Remove NA**"
   ]
  },
  {
   "cell_type": "code",
   "execution_count": 20,
   "metadata": {},
   "outputs": [],
   "source": [
    "# Remove valores NA (não faz sentido qualquer tratamento aqui, pois todas as colunas de cotações estão como NA)\n",
    "df_bitcoin = df_bitcoin.dropna('any')"
   ]
  },
  {
   "cell_type": "code",
   "execution_count": 21,
   "metadata": {
    "colab": {
     "base_uri": "https://localhost:8080/"
    },
    "id": "c7KBfhd_PwhO",
    "outputId": "33543c38-656e-4822-da97-9ba900cc69a0"
   },
   "outputs": [
    {
     "name": "stdout",
     "output_type": "stream",
     "text": [
      "+----------+----+----+----+-----+------------+-----------------+--------------+-------------------+\n",
      "| Timestamp|Open|High| Low|Close|Volume_(BTC)|Volume_(Currency)|Weighted_Price|           dateTime|\n",
      "+----------+----+----+----+-----+------------+-----------------+--------------+-------------------+\n",
      "|1325317920|4.39|4.39|4.39| 4.39|  0.45558087|     2.0000000193|          4.39|2011-12-31 08:52:00|\n",
      "|1325346600|4.39|4.39|4.39| 4.39|        48.0|           210.72|          4.39|2011-12-31 16:50:00|\n",
      "|1325350740| 4.5|4.57| 4.5| 4.57| 37.86229723|     171.38033753|  4.5264114983|2011-12-31 17:59:00|\n",
      "|1325350800|4.58|4.58|4.58| 4.58|         9.0|            41.22|          4.58|2011-12-31 18:00:00|\n",
      "|1325391360|4.58|4.58|4.58| 4.58|       1.502|          6.87916|          4.58|2012-01-01 05:16:00|\n",
      "|1325431680|4.84|4.84|4.84| 4.84|        10.0|             48.4|          4.84|2012-01-01 16:28:00|\n",
      "|1325457900| 5.0| 5.0| 5.0|  5.0|        10.1|             50.5|           5.0|2012-01-01 23:45:00|\n",
      "|1325534640| 5.0| 5.0| 5.0|  5.0|      19.048|            95.24|           5.0|2012-01-02 21:04:00|\n",
      "|1325591100|5.32|5.32|5.32| 5.32|  2.41917293|     12.869999988|          5.32|2012-01-03 12:45:00|\n",
      "|1325600520|5.14|5.14|5.14| 5.14|        0.68|           3.4952|          5.14|2012-01-03 15:22:00|\n",
      "|1325602440|5.26|5.26|5.26| 5.26| 29.31939163|     154.21999997|          5.26|2012-01-03 15:54:00|\n",
      "|1325604720|5.29|5.29|5.29| 5.29| 29.30245747|     155.01000002|          5.29|2012-01-03 16:32:00|\n",
      "|1325610600|5.29|5.29|5.29| 5.29| 11.28544423|     59.699999977|          5.29|2012-01-03 18:10:00|\n",
      "|1325610840|5.14|5.14|5.14| 5.14|        0.02|           0.1028|          5.14|2012-01-03 18:14:00|\n",
      "|1325611560|5.29|5.29|5.29| 5.29|        11.0|            58.19|          5.29|2012-01-03 18:26:00|\n",
      "|1325611620|5.29|5.29|5.29| 5.29|  4.01081466|     21.217209551|          5.29|2012-01-03 18:27:00|\n",
      "|1325650620|4.93|4.93|4.93| 4.93|        2.32|          11.4376|          4.93|2012-01-04 05:17:00|\n",
      "|1325653500|4.93|4.93|4.93| 4.93|        9.68|          47.7224|          4.93|2012-01-04 06:05:00|\n",
      "|1325680860|5.19|5.19|5.19| 5.19|   2.6416185|     13.710000015|          5.19|2012-01-04 13:41:00|\n",
      "|1325681820|5.19|5.19|5.19| 5.19|  8.72447013|     45.279999975|          5.19|2012-01-04 13:57:00|\n",
      "+----------+----+----+----+-----+------------+-----------------+--------------+-------------------+\n",
      "only showing top 20 rows\n",
      "\n"
     ]
    }
   ],
   "source": [
    "# Visualiza os dados\n",
    "df_bitcoin.show()"
   ]
  },
  {
   "cell_type": "code",
   "execution_count": 22,
   "metadata": {
    "colab": {
     "base_uri": "https://localhost:8080/"
    },
    "id": "OVDc9h7hQQF0",
    "outputId": "ebb4fde5-9789-461c-8c98-bb5613fd979f"
   },
   "outputs": [
    {
     "data": {
      "text/plain": [
       "3613769"
      ]
     },
     "execution_count": 22,
     "metadata": {},
     "output_type": "execute_result"
    }
   ],
   "source": [
    "# Número de registros\n",
    "df_bitcoin.count()"
   ]
  },
  {
   "cell_type": "markdown",
   "metadata": {},
   "source": [
    "> **Rename Columns**"
   ]
  },
  {
   "cell_type": "code",
   "execution_count": 23,
   "metadata": {
    "id": "hOc0tS4IRAl9"
   },
   "outputs": [],
   "source": [
    "# Vamos renomear algumas colunas para facilitar a manipulação dos dados\n",
    "df_bitcoin = df_bitcoin.withColumnRenamed(\"Volume_(BTC)\", \"VolBTC\").withColumnRenamed(\"Volume_(Currency)\", \"VolCurrency\")"
   ]
  },
  {
   "cell_type": "code",
   "execution_count": 24,
   "metadata": {
    "colab": {
     "base_uri": "https://localhost:8080/"
    },
    "id": "gASzkA4nRNl3",
    "outputId": "4dde2d5a-4ef4-48bb-c21d-0a03fd45a00a"
   },
   "outputs": [
    {
     "name": "stdout",
     "output_type": "stream",
     "text": [
      "+----------+----+----+----+-----+-----------+------------+--------------+-------------------+\n",
      "| Timestamp|Open|High| Low|Close|     VolBTC| VolCurrency|Weighted_Price|           dateTime|\n",
      "+----------+----+----+----+-----+-----------+------------+--------------+-------------------+\n",
      "|1325317920|4.39|4.39|4.39| 4.39| 0.45558087|2.0000000193|          4.39|2011-12-31 08:52:00|\n",
      "|1325346600|4.39|4.39|4.39| 4.39|       48.0|      210.72|          4.39|2011-12-31 16:50:00|\n",
      "|1325350740| 4.5|4.57| 4.5| 4.57|37.86229723|171.38033753|  4.5264114983|2011-12-31 17:59:00|\n",
      "|1325350800|4.58|4.58|4.58| 4.58|        9.0|       41.22|          4.58|2011-12-31 18:00:00|\n",
      "|1325391360|4.58|4.58|4.58| 4.58|      1.502|     6.87916|          4.58|2012-01-01 05:16:00|\n",
      "|1325431680|4.84|4.84|4.84| 4.84|       10.0|        48.4|          4.84|2012-01-01 16:28:00|\n",
      "|1325457900| 5.0| 5.0| 5.0|  5.0|       10.1|        50.5|           5.0|2012-01-01 23:45:00|\n",
      "|1325534640| 5.0| 5.0| 5.0|  5.0|     19.048|       95.24|           5.0|2012-01-02 21:04:00|\n",
      "|1325591100|5.32|5.32|5.32| 5.32| 2.41917293|12.869999988|          5.32|2012-01-03 12:45:00|\n",
      "|1325600520|5.14|5.14|5.14| 5.14|       0.68|      3.4952|          5.14|2012-01-03 15:22:00|\n",
      "|1325602440|5.26|5.26|5.26| 5.26|29.31939163|154.21999997|          5.26|2012-01-03 15:54:00|\n",
      "|1325604720|5.29|5.29|5.29| 5.29|29.30245747|155.01000002|          5.29|2012-01-03 16:32:00|\n",
      "|1325610600|5.29|5.29|5.29| 5.29|11.28544423|59.699999977|          5.29|2012-01-03 18:10:00|\n",
      "|1325610840|5.14|5.14|5.14| 5.14|       0.02|      0.1028|          5.14|2012-01-03 18:14:00|\n",
      "|1325611560|5.29|5.29|5.29| 5.29|       11.0|       58.19|          5.29|2012-01-03 18:26:00|\n",
      "|1325611620|5.29|5.29|5.29| 5.29| 4.01081466|21.217209551|          5.29|2012-01-03 18:27:00|\n",
      "|1325650620|4.93|4.93|4.93| 4.93|       2.32|     11.4376|          4.93|2012-01-04 05:17:00|\n",
      "|1325653500|4.93|4.93|4.93| 4.93|       9.68|     47.7224|          4.93|2012-01-04 06:05:00|\n",
      "|1325680860|5.19|5.19|5.19| 5.19|  2.6416185|13.710000015|          5.19|2012-01-04 13:41:00|\n",
      "|1325681820|5.19|5.19|5.19| 5.19| 8.72447013|45.279999975|          5.19|2012-01-04 13:57:00|\n",
      "+----------+----+----+----+-----+-----------+------------+--------------+-------------------+\n",
      "only showing top 20 rows\n",
      "\n"
     ]
    }
   ],
   "source": [
    "# Visualiza\n",
    "df_bitcoin.show()"
   ]
  },
  {
   "cell_type": "markdown",
   "metadata": {},
   "source": [
    "> **A coluna dateTime fornece os detalhes da data da cotação**\n",
    "\n",
    "Vamos separar os elementos da data em diferentes colunas:\n",
    "* date\n",
    "* time"
   ]
  },
  {
   "cell_type": "code",
   "execution_count": 25,
   "metadata": {},
   "outputs": [],
   "source": [
    "# Vamos dividir o dataframe extraindo data\n",
    "# Cria coluna date\n",
    "# Atribui primeiro elemento de datetime (antes do espaço)\n",
    "df_data = df_bitcoin.withColumn(\"date\", split(col(\"dateTime\"),\" \").getItem(0))"
   ]
  },
  {
   "cell_type": "code",
   "execution_count": 26,
   "metadata": {},
   "outputs": [
    {
     "data": {
      "text/plain": [
       "pyspark.sql.dataframe.DataFrame"
      ]
     },
     "execution_count": 26,
     "metadata": {},
     "output_type": "execute_result"
    }
   ],
   "source": [
    "type(df_data)"
   ]
  },
  {
   "cell_type": "code",
   "execution_count": 27,
   "metadata": {},
   "outputs": [],
   "source": [
    "# Vamos dividir o dataframe extraindo tempo\n",
    "# Cria coluna time\n",
    "# Atribui segundo elemento de datetime (depois do espaço)\n",
    "df_data = df_data.withColumn(\"time\", split(col(\"dateTime\"),\" \").getItem(1))"
   ]
  },
  {
   "cell_type": "code",
   "execution_count": 28,
   "metadata": {},
   "outputs": [
    {
     "name": "stdout",
     "output_type": "stream",
     "text": [
      "root\n",
      " |-- Timestamp: integer (nullable = true)\n",
      " |-- Open: double (nullable = true)\n",
      " |-- High: double (nullable = true)\n",
      " |-- Low: double (nullable = true)\n",
      " |-- Close: double (nullable = true)\n",
      " |-- VolBTC: double (nullable = true)\n",
      " |-- VolCurrency: double (nullable = true)\n",
      " |-- Weighted_Price: double (nullable = true)\n",
      " |-- dateTime: string (nullable = true)\n",
      " |-- date: string (nullable = true)\n",
      " |-- time: string (nullable = true)\n",
      "\n"
     ]
    }
   ],
   "source": [
    "# Schema\n",
    "df_data.printSchema()"
   ]
  },
  {
   "cell_type": "code",
   "execution_count": 29,
   "metadata": {},
   "outputs": [
    {
     "name": "stdout",
     "output_type": "stream",
     "text": [
      "+----------+----+----+----+-----+-----------+------------+--------------+-------------------+----------+--------+\n",
      "| Timestamp|Open|High| Low|Close|     VolBTC| VolCurrency|Weighted_Price|           dateTime|      date|    time|\n",
      "+----------+----+----+----+-----+-----------+------------+--------------+-------------------+----------+--------+\n",
      "|1325317920|4.39|4.39|4.39| 4.39| 0.45558087|2.0000000193|          4.39|2011-12-31 08:52:00|2011-12-31|08:52:00|\n",
      "|1325346600|4.39|4.39|4.39| 4.39|       48.0|      210.72|          4.39|2011-12-31 16:50:00|2011-12-31|16:50:00|\n",
      "|1325350740| 4.5|4.57| 4.5| 4.57|37.86229723|171.38033753|  4.5264114983|2011-12-31 17:59:00|2011-12-31|17:59:00|\n",
      "|1325350800|4.58|4.58|4.58| 4.58|        9.0|       41.22|          4.58|2011-12-31 18:00:00|2011-12-31|18:00:00|\n",
      "|1325391360|4.58|4.58|4.58| 4.58|      1.502|     6.87916|          4.58|2012-01-01 05:16:00|2012-01-01|05:16:00|\n",
      "|1325431680|4.84|4.84|4.84| 4.84|       10.0|        48.4|          4.84|2012-01-01 16:28:00|2012-01-01|16:28:00|\n",
      "|1325457900| 5.0| 5.0| 5.0|  5.0|       10.1|        50.5|           5.0|2012-01-01 23:45:00|2012-01-01|23:45:00|\n",
      "|1325534640| 5.0| 5.0| 5.0|  5.0|     19.048|       95.24|           5.0|2012-01-02 21:04:00|2012-01-02|21:04:00|\n",
      "|1325591100|5.32|5.32|5.32| 5.32| 2.41917293|12.869999988|          5.32|2012-01-03 12:45:00|2012-01-03|12:45:00|\n",
      "|1325600520|5.14|5.14|5.14| 5.14|       0.68|      3.4952|          5.14|2012-01-03 15:22:00|2012-01-03|15:22:00|\n",
      "|1325602440|5.26|5.26|5.26| 5.26|29.31939163|154.21999997|          5.26|2012-01-03 15:54:00|2012-01-03|15:54:00|\n",
      "|1325604720|5.29|5.29|5.29| 5.29|29.30245747|155.01000002|          5.29|2012-01-03 16:32:00|2012-01-03|16:32:00|\n",
      "|1325610600|5.29|5.29|5.29| 5.29|11.28544423|59.699999977|          5.29|2012-01-03 18:10:00|2012-01-03|18:10:00|\n",
      "|1325610840|5.14|5.14|5.14| 5.14|       0.02|      0.1028|          5.14|2012-01-03 18:14:00|2012-01-03|18:14:00|\n",
      "|1325611560|5.29|5.29|5.29| 5.29|       11.0|       58.19|          5.29|2012-01-03 18:26:00|2012-01-03|18:26:00|\n",
      "|1325611620|5.29|5.29|5.29| 5.29| 4.01081466|21.217209551|          5.29|2012-01-03 18:27:00|2012-01-03|18:27:00|\n",
      "|1325650620|4.93|4.93|4.93| 4.93|       2.32|     11.4376|          4.93|2012-01-04 05:17:00|2012-01-04|05:17:00|\n",
      "|1325653500|4.93|4.93|4.93| 4.93|       9.68|     47.7224|          4.93|2012-01-04 06:05:00|2012-01-04|06:05:00|\n",
      "|1325680860|5.19|5.19|5.19| 5.19|  2.6416185|13.710000015|          5.19|2012-01-04 13:41:00|2012-01-04|13:41:00|\n",
      "|1325681820|5.19|5.19|5.19| 5.19| 8.72447013|45.279999975|          5.19|2012-01-04 13:57:00|2012-01-04|13:57:00|\n",
      "+----------+----+----+----+-----+-----------+------------+--------------+-------------------+----------+--------+\n",
      "only showing top 20 rows\n",
      "\n"
     ]
    }
   ],
   "source": [
    "# Visualiza os dados\n",
    "df_data.show()"
   ]
  },
  {
   "cell_type": "code",
   "execution_count": 30,
   "metadata": {
    "id": "G_YvoMKEEN35"
   },
   "outputs": [],
   "source": [
    "# Vamos dividir o dataframe extraindo a hora\n",
    "# Cria coluna hora\n",
    "# Atribui primeiro elemento de time (antes de :)\n",
    "df_data_hora = df_data.withColumn(\"hour\", split(col(\"time\"),\":\").getItem(0))"
   ]
  },
  {
   "cell_type": "code",
   "execution_count": 31,
   "metadata": {},
   "outputs": [
    {
     "name": "stdout",
     "output_type": "stream",
     "text": [
      "root\n",
      " |-- Timestamp: integer (nullable = true)\n",
      " |-- Open: double (nullable = true)\n",
      " |-- High: double (nullable = true)\n",
      " |-- Low: double (nullable = true)\n",
      " |-- Close: double (nullable = true)\n",
      " |-- VolBTC: double (nullable = true)\n",
      " |-- VolCurrency: double (nullable = true)\n",
      " |-- Weighted_Price: double (nullable = true)\n",
      " |-- dateTime: string (nullable = true)\n",
      " |-- date: string (nullable = true)\n",
      " |-- time: string (nullable = true)\n",
      " |-- hour: string (nullable = true)\n",
      "\n"
     ]
    }
   ],
   "source": [
    "df_data_hora.printSchema()"
   ]
  },
  {
   "cell_type": "code",
   "execution_count": 32,
   "metadata": {},
   "outputs": [
    {
     "name": "stdout",
     "output_type": "stream",
     "text": [
      "+----------+----+----+----+-----+-----------+------------+--------------+-------------------+----------+--------+----+\n",
      "| Timestamp|Open|High| Low|Close|     VolBTC| VolCurrency|Weighted_Price|           dateTime|      date|    time|hour|\n",
      "+----------+----+----+----+-----+-----------+------------+--------------+-------------------+----------+--------+----+\n",
      "|1325317920|4.39|4.39|4.39| 4.39| 0.45558087|2.0000000193|          4.39|2011-12-31 08:52:00|2011-12-31|08:52:00|  08|\n",
      "|1325346600|4.39|4.39|4.39| 4.39|       48.0|      210.72|          4.39|2011-12-31 16:50:00|2011-12-31|16:50:00|  16|\n",
      "|1325350740| 4.5|4.57| 4.5| 4.57|37.86229723|171.38033753|  4.5264114983|2011-12-31 17:59:00|2011-12-31|17:59:00|  17|\n",
      "|1325350800|4.58|4.58|4.58| 4.58|        9.0|       41.22|          4.58|2011-12-31 18:00:00|2011-12-31|18:00:00|  18|\n",
      "|1325391360|4.58|4.58|4.58| 4.58|      1.502|     6.87916|          4.58|2012-01-01 05:16:00|2012-01-01|05:16:00|  05|\n",
      "|1325431680|4.84|4.84|4.84| 4.84|       10.0|        48.4|          4.84|2012-01-01 16:28:00|2012-01-01|16:28:00|  16|\n",
      "|1325457900| 5.0| 5.0| 5.0|  5.0|       10.1|        50.5|           5.0|2012-01-01 23:45:00|2012-01-01|23:45:00|  23|\n",
      "|1325534640| 5.0| 5.0| 5.0|  5.0|     19.048|       95.24|           5.0|2012-01-02 21:04:00|2012-01-02|21:04:00|  21|\n",
      "|1325591100|5.32|5.32|5.32| 5.32| 2.41917293|12.869999988|          5.32|2012-01-03 12:45:00|2012-01-03|12:45:00|  12|\n",
      "|1325600520|5.14|5.14|5.14| 5.14|       0.68|      3.4952|          5.14|2012-01-03 15:22:00|2012-01-03|15:22:00|  15|\n",
      "|1325602440|5.26|5.26|5.26| 5.26|29.31939163|154.21999997|          5.26|2012-01-03 15:54:00|2012-01-03|15:54:00|  15|\n",
      "|1325604720|5.29|5.29|5.29| 5.29|29.30245747|155.01000002|          5.29|2012-01-03 16:32:00|2012-01-03|16:32:00|  16|\n",
      "|1325610600|5.29|5.29|5.29| 5.29|11.28544423|59.699999977|          5.29|2012-01-03 18:10:00|2012-01-03|18:10:00|  18|\n",
      "|1325610840|5.14|5.14|5.14| 5.14|       0.02|      0.1028|          5.14|2012-01-03 18:14:00|2012-01-03|18:14:00|  18|\n",
      "|1325611560|5.29|5.29|5.29| 5.29|       11.0|       58.19|          5.29|2012-01-03 18:26:00|2012-01-03|18:26:00|  18|\n",
      "|1325611620|5.29|5.29|5.29| 5.29| 4.01081466|21.217209551|          5.29|2012-01-03 18:27:00|2012-01-03|18:27:00|  18|\n",
      "|1325650620|4.93|4.93|4.93| 4.93|       2.32|     11.4376|          4.93|2012-01-04 05:17:00|2012-01-04|05:17:00|  05|\n",
      "|1325653500|4.93|4.93|4.93| 4.93|       9.68|     47.7224|          4.93|2012-01-04 06:05:00|2012-01-04|06:05:00|  06|\n",
      "|1325680860|5.19|5.19|5.19| 5.19|  2.6416185|13.710000015|          5.19|2012-01-04 13:41:00|2012-01-04|13:41:00|  13|\n",
      "|1325681820|5.19|5.19|5.19| 5.19| 8.72447013|45.279999975|          5.19|2012-01-04 13:57:00|2012-01-04|13:57:00|  13|\n",
      "+----------+----+----+----+-----+-----------+------------+--------------+-------------------+----------+--------+----+\n",
      "only showing top 20 rows\n",
      "\n"
     ]
    }
   ],
   "source": [
    "df_data_hora.show()"
   ]
  },
  {
   "cell_type": "code",
   "execution_count": 33,
   "metadata": {
    "id": "uh0C5gM-EaCO"
   },
   "outputs": [],
   "source": [
    "# Vamos ajustar o formato da data para extrair o dia da semana\n",
    "# Ajustano o tipo de data das colunas: date, hour e datetime (cast)\n",
    "df_data_hora = df_data_hora.withColumn(\"date\", df_data_hora[\"date\"].cast(DateType())).withColumn(\"hour\", df_data_hora[\"hour\"].cast(DoubleType())).withColumn(\"dateTime\", df_data_hora[\"dateTime\"].cast(DateType()))"
   ]
  },
  {
   "cell_type": "code",
   "execution_count": 34,
   "metadata": {},
   "outputs": [
    {
     "name": "stdout",
     "output_type": "stream",
     "text": [
      "+----------+----+----+----+-----+-----------+------------+--------------+----------+----------+--------+----+\n",
      "| Timestamp|Open|High| Low|Close|     VolBTC| VolCurrency|Weighted_Price|  dateTime|      date|    time|hour|\n",
      "+----------+----+----+----+-----+-----------+------------+--------------+----------+----------+--------+----+\n",
      "|1325317920|4.39|4.39|4.39| 4.39| 0.45558087|2.0000000193|          4.39|2011-12-31|2011-12-31|08:52:00| 8.0|\n",
      "|1325346600|4.39|4.39|4.39| 4.39|       48.0|      210.72|          4.39|2011-12-31|2011-12-31|16:50:00|16.0|\n",
      "|1325350740| 4.5|4.57| 4.5| 4.57|37.86229723|171.38033753|  4.5264114983|2011-12-31|2011-12-31|17:59:00|17.0|\n",
      "|1325350800|4.58|4.58|4.58| 4.58|        9.0|       41.22|          4.58|2011-12-31|2011-12-31|18:00:00|18.0|\n",
      "|1325391360|4.58|4.58|4.58| 4.58|      1.502|     6.87916|          4.58|2012-01-01|2012-01-01|05:16:00| 5.0|\n",
      "|1325431680|4.84|4.84|4.84| 4.84|       10.0|        48.4|          4.84|2012-01-01|2012-01-01|16:28:00|16.0|\n",
      "|1325457900| 5.0| 5.0| 5.0|  5.0|       10.1|        50.5|           5.0|2012-01-01|2012-01-01|23:45:00|23.0|\n",
      "|1325534640| 5.0| 5.0| 5.0|  5.0|     19.048|       95.24|           5.0|2012-01-02|2012-01-02|21:04:00|21.0|\n",
      "|1325591100|5.32|5.32|5.32| 5.32| 2.41917293|12.869999988|          5.32|2012-01-03|2012-01-03|12:45:00|12.0|\n",
      "|1325600520|5.14|5.14|5.14| 5.14|       0.68|      3.4952|          5.14|2012-01-03|2012-01-03|15:22:00|15.0|\n",
      "|1325602440|5.26|5.26|5.26| 5.26|29.31939163|154.21999997|          5.26|2012-01-03|2012-01-03|15:54:00|15.0|\n",
      "|1325604720|5.29|5.29|5.29| 5.29|29.30245747|155.01000002|          5.29|2012-01-03|2012-01-03|16:32:00|16.0|\n",
      "|1325610600|5.29|5.29|5.29| 5.29|11.28544423|59.699999977|          5.29|2012-01-03|2012-01-03|18:10:00|18.0|\n",
      "|1325610840|5.14|5.14|5.14| 5.14|       0.02|      0.1028|          5.14|2012-01-03|2012-01-03|18:14:00|18.0|\n",
      "|1325611560|5.29|5.29|5.29| 5.29|       11.0|       58.19|          5.29|2012-01-03|2012-01-03|18:26:00|18.0|\n",
      "|1325611620|5.29|5.29|5.29| 5.29| 4.01081466|21.217209551|          5.29|2012-01-03|2012-01-03|18:27:00|18.0|\n",
      "|1325650620|4.93|4.93|4.93| 4.93|       2.32|     11.4376|          4.93|2012-01-04|2012-01-04|05:17:00| 5.0|\n",
      "|1325653500|4.93|4.93|4.93| 4.93|       9.68|     47.7224|          4.93|2012-01-04|2012-01-04|06:05:00| 6.0|\n",
      "|1325680860|5.19|5.19|5.19| 5.19|  2.6416185|13.710000015|          5.19|2012-01-04|2012-01-04|13:41:00|13.0|\n",
      "|1325681820|5.19|5.19|5.19| 5.19| 8.72447013|45.279999975|          5.19|2012-01-04|2012-01-04|13:57:00|13.0|\n",
      "+----------+----+----+----+-----+-----------+------------+--------------+----------+----------+--------+----+\n",
      "only showing top 20 rows\n",
      "\n"
     ]
    }
   ],
   "source": [
    "df_data_hora.show()"
   ]
  },
  {
   "cell_type": "code",
   "execution_count": 35,
   "metadata": {},
   "outputs": [],
   "source": [
    "# Vamos extrair o dia da semana\n",
    "# Cria coluna day_of_week\n",
    "df_data_hora = df_data_hora.withColumn('day_of_week', dayofweek(df_data_hora.date))"
   ]
  },
  {
   "cell_type": "code",
   "execution_count": 36,
   "metadata": {},
   "outputs": [
    {
     "name": "stdout",
     "output_type": "stream",
     "text": [
      "root\n",
      " |-- Timestamp: integer (nullable = true)\n",
      " |-- Open: double (nullable = true)\n",
      " |-- High: double (nullable = true)\n",
      " |-- Low: double (nullable = true)\n",
      " |-- Close: double (nullable = true)\n",
      " |-- VolBTC: double (nullable = true)\n",
      " |-- VolCurrency: double (nullable = true)\n",
      " |-- Weighted_Price: double (nullable = true)\n",
      " |-- dateTime: date (nullable = true)\n",
      " |-- date: date (nullable = true)\n",
      " |-- time: string (nullable = true)\n",
      " |-- hour: double (nullable = true)\n",
      " |-- day_of_week: integer (nullable = true)\n",
      "\n"
     ]
    }
   ],
   "source": [
    "df_data_hora.printSchema()"
   ]
  },
  {
   "cell_type": "code",
   "execution_count": 37,
   "metadata": {
    "colab": {
     "base_uri": "https://localhost:8080/"
    },
    "id": "8kmhB2zCEcZN",
    "outputId": "701ae1e3-1176-4e94-d374-fde6d609452e"
   },
   "outputs": [],
   "source": [
    "# Vamos extrair o ano da cotação\n",
    "# Cria coluna year\n",
    "# Atribui primeiro elemento da coluna date (antes de -)\n",
    "df_data_hora_ano = df_data_hora.withColumn(\"year\", split(col(\"date\"),\"-\").getItem(0))"
   ]
  },
  {
   "cell_type": "code",
   "execution_count": 38,
   "metadata": {},
   "outputs": [
    {
     "name": "stdout",
     "output_type": "stream",
     "text": [
      "+----------+----+----+----+-----+-----------+------------+--------------+----------+----------+--------+----+-----------+----+\n",
      "| Timestamp|Open|High| Low|Close|     VolBTC| VolCurrency|Weighted_Price|  dateTime|      date|    time|hour|day_of_week|year|\n",
      "+----------+----+----+----+-----+-----------+------------+--------------+----------+----------+--------+----+-----------+----+\n",
      "|1325317920|4.39|4.39|4.39| 4.39| 0.45558087|2.0000000193|          4.39|2011-12-31|2011-12-31|08:52:00| 8.0|          7|2011|\n",
      "|1325346600|4.39|4.39|4.39| 4.39|       48.0|      210.72|          4.39|2011-12-31|2011-12-31|16:50:00|16.0|          7|2011|\n",
      "|1325350740| 4.5|4.57| 4.5| 4.57|37.86229723|171.38033753|  4.5264114983|2011-12-31|2011-12-31|17:59:00|17.0|          7|2011|\n",
      "|1325350800|4.58|4.58|4.58| 4.58|        9.0|       41.22|          4.58|2011-12-31|2011-12-31|18:00:00|18.0|          7|2011|\n",
      "|1325391360|4.58|4.58|4.58| 4.58|      1.502|     6.87916|          4.58|2012-01-01|2012-01-01|05:16:00| 5.0|          1|2012|\n",
      "|1325431680|4.84|4.84|4.84| 4.84|       10.0|        48.4|          4.84|2012-01-01|2012-01-01|16:28:00|16.0|          1|2012|\n",
      "|1325457900| 5.0| 5.0| 5.0|  5.0|       10.1|        50.5|           5.0|2012-01-01|2012-01-01|23:45:00|23.0|          1|2012|\n",
      "|1325534640| 5.0| 5.0| 5.0|  5.0|     19.048|       95.24|           5.0|2012-01-02|2012-01-02|21:04:00|21.0|          2|2012|\n",
      "|1325591100|5.32|5.32|5.32| 5.32| 2.41917293|12.869999988|          5.32|2012-01-03|2012-01-03|12:45:00|12.0|          3|2012|\n",
      "|1325600520|5.14|5.14|5.14| 5.14|       0.68|      3.4952|          5.14|2012-01-03|2012-01-03|15:22:00|15.0|          3|2012|\n",
      "|1325602440|5.26|5.26|5.26| 5.26|29.31939163|154.21999997|          5.26|2012-01-03|2012-01-03|15:54:00|15.0|          3|2012|\n",
      "|1325604720|5.29|5.29|5.29| 5.29|29.30245747|155.01000002|          5.29|2012-01-03|2012-01-03|16:32:00|16.0|          3|2012|\n",
      "|1325610600|5.29|5.29|5.29| 5.29|11.28544423|59.699999977|          5.29|2012-01-03|2012-01-03|18:10:00|18.0|          3|2012|\n",
      "|1325610840|5.14|5.14|5.14| 5.14|       0.02|      0.1028|          5.14|2012-01-03|2012-01-03|18:14:00|18.0|          3|2012|\n",
      "|1325611560|5.29|5.29|5.29| 5.29|       11.0|       58.19|          5.29|2012-01-03|2012-01-03|18:26:00|18.0|          3|2012|\n",
      "|1325611620|5.29|5.29|5.29| 5.29| 4.01081466|21.217209551|          5.29|2012-01-03|2012-01-03|18:27:00|18.0|          3|2012|\n",
      "|1325650620|4.93|4.93|4.93| 4.93|       2.32|     11.4376|          4.93|2012-01-04|2012-01-04|05:17:00| 5.0|          4|2012|\n",
      "|1325653500|4.93|4.93|4.93| 4.93|       9.68|     47.7224|          4.93|2012-01-04|2012-01-04|06:05:00| 6.0|          4|2012|\n",
      "|1325680860|5.19|5.19|5.19| 5.19|  2.6416185|13.710000015|          5.19|2012-01-04|2012-01-04|13:41:00|13.0|          4|2012|\n",
      "|1325681820|5.19|5.19|5.19| 5.19| 8.72447013|45.279999975|          5.19|2012-01-04|2012-01-04|13:57:00|13.0|          4|2012|\n",
      "+----------+----+----+----+-----+-----------+------------+--------------+----------+----------+--------+----+-----------+----+\n",
      "only showing top 20 rows\n",
      "\n"
     ]
    }
   ],
   "source": [
    "df_data_hora_ano.show()"
   ]
  },
  {
   "cell_type": "code",
   "execution_count": 39,
   "metadata": {
    "id": "IfRDjht1EnRU"
   },
   "outputs": [],
   "source": [
    "# Converte o dataframe do Spark para o Pandas. \n",
    "# Por quê? Porque isso vai facilitar a análise exploratória de dados.\n",
    "df_pandas = df_data_hora_ano.toPandas()"
   ]
  },
  {
   "cell_type": "code",
   "execution_count": 40,
   "metadata": {},
   "outputs": [
    {
     "data": {
      "text/plain": [
       "pandas.core.frame.DataFrame"
      ]
     },
     "execution_count": 40,
     "metadata": {},
     "output_type": "execute_result"
    }
   ],
   "source": [
    "type(df_pandas)"
   ]
  },
  {
   "cell_type": "code",
   "execution_count": 41,
   "metadata": {
    "id": "hPFeL6MqEzK1"
   },
   "outputs": [],
   "source": [
    "# Obtendo os valores individuais para usar nos gráficos\n",
    "hour = df_pandas[\"hour\"].values.tolist()\n",
    "weighted_price = df_pandas[\"Weighted_Price\"].values.tolist()\n",
    "volume_BTC = df_pandas[\"VolBTC\"].values.tolist()\n",
    "date_of_week = df_pandas[\"day_of_week\"].values.tolist()\n",
    "year = df_pandas[\"year\"].values.tolist()"
   ]
  }
 ],
 "metadata": {
  "colab": {
   "name": "BitCoinTrend.ipynb",
   "provenance": []
  },
  "kernelspec": {
   "display_name": "Python 3 (ipykernel)",
   "language": "python",
   "name": "python3"
  },
  "language_info": {
   "codemirror_mode": {
    "name": "ipython",
    "version": 3
   },
   "file_extension": ".py",
   "mimetype": "text/x-python",
   "name": "python",
   "nbconvert_exporter": "python",
   "pygments_lexer": "ipython3",
   "version": "3.9.7"
  }
 },
 "nbformat": 4,
 "nbformat_minor": 1
}
